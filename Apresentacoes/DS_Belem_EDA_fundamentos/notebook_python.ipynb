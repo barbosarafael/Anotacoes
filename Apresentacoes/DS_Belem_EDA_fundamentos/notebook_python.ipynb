{
 "cells": [
  {
   "cell_type": "markdown",
   "metadata": {},
   "source": [
    "# Fundamentos de Análise Exploratória\n",
    "\n",
    "## Exemplos em Python\n",
    "\n",
    "Autor: Rafael Barbosa"
   ]
  },
  {
   "cell_type": "markdown",
   "metadata": {},
   "source": [
    "## 1. Importando as bibliotecas"
   ]
  },
  {
   "cell_type": "code",
   "execution_count": 3,
   "metadata": {
    "execution": {
     "iopub.execute_input": "2020-08-15T14:54:24.081970Z",
     "iopub.status.busy": "2020-08-15T14:54:24.080971Z",
     "iopub.status.idle": "2020-08-15T14:54:24.099966Z",
     "shell.execute_reply": "2020-08-15T14:54:24.095969Z",
     "shell.execute_reply.started": "2020-08-15T14:54:24.081970Z"
    }
   },
   "outputs": [],
   "source": [
    "#--- Bibliotecas iniciais\n",
    "\n",
    "import pandas as pd\n",
    "import numpy as np\n",
    "import matplotlib.pyplot as plt\n",
    "import seaborn as sns\n",
    "\n",
    "#--- Configurações adicionais\n",
    "\n",
    "plt.style.use(\"seaborn-muted\")\n",
    "pd.set_option(\"display.max_columns\", None)"
   ]
  },
  {
   "cell_type": "markdown",
   "metadata": {},
   "source": [
    "## 2. Lendo os arquivos"
   ]
  },
  {
   "cell_type": "code",
   "execution_count": 4,
   "metadata": {
    "execution": {
     "iopub.execute_input": "2020-08-15T14:54:24.117972Z",
     "iopub.status.busy": "2020-08-15T14:54:24.117972Z",
     "iopub.status.idle": "2020-08-15T14:54:24.870967Z",
     "shell.execute_reply": "2020-08-15T14:54:24.868965Z",
     "shell.execute_reply.started": "2020-08-15T14:54:24.117972Z"
    }
   },
   "outputs": [],
   "source": [
    "dados = pd.read_csv(filepath_or_buffer = \"https://raw.githubusercontent.com/barbosarafael/Anotacoes/master/Apresentacoes/DS_Belem_EDA_fundamentos/penguins.csv\")"
   ]
  },
  {
   "cell_type": "markdown",
   "metadata": {},
   "source": [
    "## 3. Estrutura dos dados (Variáveis)"
   ]
  },
  {
   "cell_type": "code",
   "execution_count": 5,
   "metadata": {
    "execution": {
     "iopub.execute_input": "2020-08-15T14:54:24.873969Z",
     "iopub.status.busy": "2020-08-15T14:54:24.873969Z",
     "iopub.status.idle": "2020-08-15T14:54:24.952970Z",
     "shell.execute_reply": "2020-08-15T14:54:24.946966Z",
     "shell.execute_reply.started": "2020-08-15T14:54:24.873969Z"
    }
   },
   "outputs": [
    {
     "data": {
      "text/html": [
       "<div>\n",
       "<style scoped>\n",
       "    .dataframe tbody tr th:only-of-type {\n",
       "        vertical-align: middle;\n",
       "    }\n",
       "\n",
       "    .dataframe tbody tr th {\n",
       "        vertical-align: top;\n",
       "    }\n",
       "\n",
       "    .dataframe thead th {\n",
       "        text-align: right;\n",
       "    }\n",
       "</style>\n",
       "<table border=\"1\" class=\"dataframe\">\n",
       "  <thead>\n",
       "    <tr style=\"text-align: right;\">\n",
       "      <th></th>\n",
       "      <th>species</th>\n",
       "      <th>island</th>\n",
       "      <th>bill_length_mm</th>\n",
       "      <th>bill_depth_mm</th>\n",
       "      <th>flipper_length_mm</th>\n",
       "      <th>body_mass_g</th>\n",
       "      <th>sex</th>\n",
       "      <th>year</th>\n",
       "    </tr>\n",
       "  </thead>\n",
       "  <tbody>\n",
       "    <tr>\n",
       "      <th>0</th>\n",
       "      <td>Adelie</td>\n",
       "      <td>Torgersen</td>\n",
       "      <td>39.1</td>\n",
       "      <td>18.7</td>\n",
       "      <td>181.0</td>\n",
       "      <td>3750.0</td>\n",
       "      <td>male</td>\n",
       "      <td>2007</td>\n",
       "    </tr>\n",
       "    <tr>\n",
       "      <th>1</th>\n",
       "      <td>Adelie</td>\n",
       "      <td>Torgersen</td>\n",
       "      <td>39.5</td>\n",
       "      <td>17.4</td>\n",
       "      <td>186.0</td>\n",
       "      <td>3800.0</td>\n",
       "      <td>female</td>\n",
       "      <td>2007</td>\n",
       "    </tr>\n",
       "    <tr>\n",
       "      <th>2</th>\n",
       "      <td>Adelie</td>\n",
       "      <td>Torgersen</td>\n",
       "      <td>40.3</td>\n",
       "      <td>18.0</td>\n",
       "      <td>195.0</td>\n",
       "      <td>3250.0</td>\n",
       "      <td>female</td>\n",
       "      <td>2007</td>\n",
       "    </tr>\n",
       "    <tr>\n",
       "      <th>3</th>\n",
       "      <td>Adelie</td>\n",
       "      <td>Torgersen</td>\n",
       "      <td>NaN</td>\n",
       "      <td>NaN</td>\n",
       "      <td>NaN</td>\n",
       "      <td>NaN</td>\n",
       "      <td>NaN</td>\n",
       "      <td>2007</td>\n",
       "    </tr>\n",
       "    <tr>\n",
       "      <th>4</th>\n",
       "      <td>Adelie</td>\n",
       "      <td>Torgersen</td>\n",
       "      <td>36.7</td>\n",
       "      <td>19.3</td>\n",
       "      <td>193.0</td>\n",
       "      <td>3450.0</td>\n",
       "      <td>female</td>\n",
       "      <td>2007</td>\n",
       "    </tr>\n",
       "  </tbody>\n",
       "</table>\n",
       "</div>"
      ],
      "text/plain": [
       "  species     island  bill_length_mm  bill_depth_mm  flipper_length_mm  \\\n",
       "0  Adelie  Torgersen            39.1           18.7              181.0   \n",
       "1  Adelie  Torgersen            39.5           17.4              186.0   \n",
       "2  Adelie  Torgersen            40.3           18.0              195.0   \n",
       "3  Adelie  Torgersen             NaN            NaN                NaN   \n",
       "4  Adelie  Torgersen            36.7           19.3              193.0   \n",
       "\n",
       "   body_mass_g     sex  year  \n",
       "0       3750.0    male  2007  \n",
       "1       3800.0  female  2007  \n",
       "2       3250.0  female  2007  \n",
       "3          NaN     NaN  2007  \n",
       "4       3450.0  female  2007  "
      ]
     },
     "execution_count": 5,
     "metadata": {},
     "output_type": "execute_result"
    }
   ],
   "source": [
    "dados.head()"
   ]
  },
  {
   "cell_type": "code",
   "execution_count": 6,
   "metadata": {
    "execution": {
     "iopub.execute_input": "2020-08-15T14:54:24.960973Z",
     "iopub.status.busy": "2020-08-15T14:54:24.957969Z",
     "iopub.status.idle": "2020-08-15T14:54:25.012971Z",
     "shell.execute_reply": "2020-08-15T14:54:25.008972Z",
     "shell.execute_reply.started": "2020-08-15T14:54:24.960973Z"
    }
   },
   "outputs": [
    {
     "name": "stdout",
     "output_type": "stream",
     "text": [
      "<class 'pandas.core.frame.DataFrame'>\n",
      "RangeIndex: 344 entries, 0 to 343\n",
      "Data columns (total 8 columns):\n",
      " #   Column             Non-Null Count  Dtype  \n",
      "---  ------             --------------  -----  \n",
      " 0   species            344 non-null    object \n",
      " 1   island             344 non-null    object \n",
      " 2   bill_length_mm     342 non-null    float64\n",
      " 3   bill_depth_mm      342 non-null    float64\n",
      " 4   flipper_length_mm  342 non-null    float64\n",
      " 5   body_mass_g        342 non-null    float64\n",
      " 6   sex                333 non-null    object \n",
      " 7   year               344 non-null    int64  \n",
      "dtypes: float64(4), int64(1), object(3)\n",
      "memory usage: 21.6+ KB\n"
     ]
    }
   ],
   "source": [
    "dados.info()"
   ]
  },
  {
   "cell_type": "markdown",
   "metadata": {},
   "source": [
    "## 4. Tópicos especiais\n",
    "\n",
    "### 4.1. Arredondamento"
   ]
  },
  {
   "cell_type": "code",
   "execution_count": 7,
   "metadata": {
    "execution": {
     "iopub.execute_input": "2020-08-15T14:54:25.017969Z",
     "iopub.status.busy": "2020-08-15T14:54:25.015967Z",
     "iopub.status.idle": "2020-08-15T14:54:25.059018Z",
     "shell.execute_reply": "2020-08-15T14:54:25.053018Z",
     "shell.execute_reply.started": "2020-08-15T14:54:25.017969Z"
    }
   },
   "outputs": [
    {
     "data": {
      "text/plain": [
       "17.35"
      ]
     },
     "execution_count": 7,
     "metadata": {},
     "output_type": "execute_result"
    }
   ],
   "source": [
    "numero_arred = 17.3452\n",
    "\n",
    "round(number = numero_arred, ndigits = 2)"
   ]
  },
  {
   "cell_type": "markdown",
   "metadata": {},
   "source": [
    "### 4.2. Missing data"
   ]
  },
  {
   "cell_type": "code",
   "execution_count": 8,
   "metadata": {
    "execution": {
     "iopub.execute_input": "2020-08-15T14:54:25.070021Z",
     "iopub.status.busy": "2020-08-15T14:54:25.065019Z",
     "iopub.status.idle": "2020-08-15T14:54:25.147018Z",
     "shell.execute_reply": "2020-08-15T14:54:25.145019Z",
     "shell.execute_reply.started": "2020-08-15T14:54:25.070021Z"
    }
   },
   "outputs": [
    {
     "data": {
      "text/plain": [
       "species               0\n",
       "island                0\n",
       "bill_length_mm        2\n",
       "bill_depth_mm         2\n",
       "flipper_length_mm     2\n",
       "body_mass_g           2\n",
       "sex                  11\n",
       "year                  0\n",
       "dtype: int64"
      ]
     },
     "execution_count": 8,
     "metadata": {},
     "output_type": "execute_result"
    }
   ],
   "source": [
    "dados.isnull().sum()"
   ]
  },
  {
   "cell_type": "markdown",
   "metadata": {},
   "source": [
    "### 4.3. Recodificação\n",
    "\n",
    "Regra: \n",
    "\n",
    "- **body_mass_g** < 4500: Leve\n",
    "- **body_mass_g** >= 4500: Pesado"
   ]
  },
  {
   "cell_type": "code",
   "execution_count": 9,
   "metadata": {
    "execution": {
     "iopub.execute_input": "2020-08-15T14:54:25.150018Z",
     "iopub.status.busy": "2020-08-15T14:54:25.149018Z",
     "iopub.status.idle": "2020-08-15T14:54:25.178019Z",
     "shell.execute_reply": "2020-08-15T14:54:25.176020Z",
     "shell.execute_reply.started": "2020-08-15T14:54:25.150018Z"
    }
   },
   "outputs": [
    {
     "data": {
      "text/plain": [
       "Leve      224\n",
       "Pesado    120\n",
       "Name: body_mass_g, dtype: int64"
      ]
     },
     "execution_count": 9,
     "metadata": {},
     "output_type": "execute_result"
    }
   ],
   "source": [
    "dados[\"body_mass_g\"].apply(lambda x: \"Leve\" if x < 4500 else \"Pesado\").value_counts()"
   ]
  },
  {
   "cell_type": "markdown",
   "metadata": {},
   "source": [
    "## 5. Gráficos"
   ]
  },
  {
   "cell_type": "markdown",
   "metadata": {},
   "source": [
    "### 5.1. Barras"
   ]
  },
  {
   "cell_type": "code",
   "execution_count": 14,
   "metadata": {
    "execution": {
     "iopub.execute_input": "2020-08-15T14:55:08.366110Z",
     "iopub.status.busy": "2020-08-15T14:55:08.365110Z",
     "iopub.status.idle": "2020-08-15T14:55:08.695108Z",
     "shell.execute_reply": "2020-08-15T14:55:08.693105Z",
     "shell.execute_reply.started": "2020-08-15T14:55:08.365110Z"
    }
   },
   "outputs": [
    {
     "data": {
      "image/png": "[encoded data removed]",
      "text/plain": [
       "<Figure size 432x288 with 1 Axes>"
      ]
     },
     "metadata": {
      "needs_background": "light"
     },
     "output_type": "display_data"
    }
   ],
   "source": [
    "_ = dados[\"sex\"].value_counts().plot(kind = \"bar\", color = \"orangered\", edgecolor = \"black\")\n",
    "_ = plt.title(\"Percentual de gênero no banco de dados\")"
   ]
  },
  {
   "cell_type": "markdown",
   "metadata": {},
   "source": [
    "### 5.2. Scatterplot"
   ]
  },
  {
   "cell_type": "code",
   "execution_count": 9,
   "metadata": {
    "execution": {
     "iopub.execute_input": "2020-08-15T12:35:00.394254Z",
     "iopub.status.busy": "2020-08-15T12:35:00.394254Z",
     "iopub.status.idle": "2020-08-15T12:35:00.646252Z",
     "shell.execute_reply": "2020-08-15T12:35:00.644251Z",
     "shell.execute_reply.started": "2020-08-15T12:35:00.394254Z"
    }
   },
   "outputs": [
    {
     "data": {
      "image/png": "[encoded data removed]",
      "text/plain": [
       "<Figure size 432x288 with 1 Axes>"
      ]
     },
     "metadata": {
      "needs_background": "light"
     },
     "output_type": "display_data"
    }
   ],
   "source": [
    "_ = dados.plot(x = \"bill_length_mm\", y = \"bill_depth_mm\", kind = \"scatter\")\n",
    "_ = plt.title(\"bill_length_mm x bill_depth_mm\")"
   ]
  },
  {
   "cell_type": "markdown",
   "metadata": {},
   "source": [
    "### 5.3. Histograma"
   ]
  },
  {
   "cell_type": "code",
   "execution_count": 10,
   "metadata": {
    "execution": {
     "iopub.execute_input": "2020-08-15T12:35:00.652254Z",
     "iopub.status.busy": "2020-08-15T12:35:00.650256Z",
     "iopub.status.idle": "2020-08-15T12:35:00.932252Z",
     "shell.execute_reply": "2020-08-15T12:35:00.930260Z",
     "shell.execute_reply.started": "2020-08-15T12:35:00.652254Z"
    }
   },
   "outputs": [
    {
     "data": {
      "image/png": "[encoded data removed]",
      "text/plain": [
       "<Figure size 432x288 with 1 Axes>"
      ]
     },
     "metadata": {
      "needs_background": "light"
     },
     "output_type": "display_data"
    }
   ],
   "source": [
    "_ = dados[\"body_mass_g\"].plot(kind = \"hist\", color = \"orangered\", edgecolor = \"black\")\n",
    "_ = plt.title(\"Distribuição de frequência do peso em g\")"
   ]
  },
  {
   "cell_type": "markdown",
   "metadata": {},
   "source": [
    "### 5.4. Boxplot"
   ]
  },
  {
   "cell_type": "code",
   "execution_count": 11,
   "metadata": {
    "execution": {
     "iopub.execute_input": "2020-08-15T12:35:00.935252Z",
     "iopub.status.busy": "2020-08-15T12:35:00.934258Z",
     "iopub.status.idle": "2020-08-15T12:35:01.247250Z",
     "shell.execute_reply": "2020-08-15T12:35:01.246256Z",
     "shell.execute_reply.started": "2020-08-15T12:35:00.934258Z"
    }
   },
   "outputs": [
    {
     "data": {
      "image/png": "[encoded data removed]",
      "text/plain": [
       "<Figure size 432x288 with 1 Axes>"
      ]
     },
     "metadata": {
      "needs_background": "light"
     },
     "output_type": "display_data"
    }
   ],
   "source": [
    "_ = sns.boxplot(x = \"sex\", y = \"body_mass_g\", data = dados)\n",
    "_ = \"Distribuição do peso (em g) pelo sexo\""
   ]
  },
  {
   "cell_type": "markdown",
   "metadata": {},
   "source": [
    "## 6. Medidas resumo\n",
    "\n",
    "### 6.1. Tendência central"
   ]
  },
  {
   "cell_type": "code",
   "execution_count": 12,
   "metadata": {
    "execution": {
     "iopub.execute_input": "2020-08-15T12:35:01.250253Z",
     "iopub.status.busy": "2020-08-15T12:35:01.249250Z",
     "iopub.status.idle": "2020-08-15T12:35:01.280253Z",
     "shell.execute_reply": "2020-08-15T12:35:01.278253Z",
     "shell.execute_reply.started": "2020-08-15T12:35:01.250253Z"
    }
   },
   "outputs": [
    {
     "data": {
      "text/plain": [
       "4201.754385964912"
      ]
     },
     "execution_count": 12,
     "metadata": {},
     "output_type": "execute_result"
    }
   ],
   "source": [
    "#--- Média\n",
    "\n",
    "dados[\"body_mass_g\"].mean()"
   ]
  },
  {
   "cell_type": "code",
   "execution_count": 13,
   "metadata": {
    "execution": {
     "iopub.execute_input": "2020-08-15T12:35:01.286258Z",
     "iopub.status.busy": "2020-08-15T12:35:01.284253Z",
     "iopub.status.idle": "2020-08-15T12:35:01.313254Z",
     "shell.execute_reply": "2020-08-15T12:35:01.311256Z",
     "shell.execute_reply.started": "2020-08-15T12:35:01.286258Z"
    }
   },
   "outputs": [
    {
     "data": {
      "text/plain": [
       "4050.0"
      ]
     },
     "execution_count": 13,
     "metadata": {},
     "output_type": "execute_result"
    }
   ],
   "source": [
    "#--- Mediana\n",
    "\n",
    "dados[\"body_mass_g\"].median()"
   ]
  },
  {
   "cell_type": "code",
   "execution_count": 14,
   "metadata": {
    "execution": {
     "iopub.execute_input": "2020-08-15T12:35:01.317253Z",
     "iopub.status.busy": "2020-08-15T12:35:01.316252Z",
     "iopub.status.idle": "2020-08-15T12:35:01.343254Z",
     "shell.execute_reply": "2020-08-15T12:35:01.341253Z",
     "shell.execute_reply.started": "2020-08-15T12:35:01.317253Z"
    }
   },
   "outputs": [
    {
     "data": {
      "text/plain": [
       "0    3800.0\n",
       "dtype: float64"
      ]
     },
     "execution_count": 14,
     "metadata": {},
     "output_type": "execute_result"
    }
   ],
   "source": [
    "#--- Moda\n",
    "\n",
    "dados[\"body_mass_g\"].mode()"
   ]
  },
  {
   "cell_type": "markdown",
   "metadata": {},
   "source": [
    "### 6.2. Medidas de dispersão"
   ]
  },
  {
   "cell_type": "code",
   "execution_count": 15,
   "metadata": {
    "execution": {
     "iopub.execute_input": "2020-08-15T12:35:01.351254Z",
     "iopub.status.busy": "2020-08-15T12:35:01.348253Z",
     "iopub.status.idle": "2020-08-15T12:35:01.374254Z",
     "shell.execute_reply": "2020-08-15T12:35:01.372248Z",
     "shell.execute_reply.started": "2020-08-15T12:35:01.350253Z"
    }
   },
   "outputs": [
    {
     "data": {
      "text/plain": [
       "643131.0773267478"
      ]
     },
     "execution_count": 15,
     "metadata": {},
     "output_type": "execute_result"
    }
   ],
   "source": [
    "#--- Variância\n",
    "\n",
    "dados[\"body_mass_g\"].var()"
   ]
  },
  {
   "cell_type": "code",
   "execution_count": 16,
   "metadata": {
    "execution": {
     "iopub.execute_input": "2020-08-15T12:35:01.380253Z",
     "iopub.status.busy": "2020-08-15T12:35:01.379258Z",
     "iopub.status.idle": "2020-08-15T12:35:01.406251Z",
     "shell.execute_reply": "2020-08-15T12:35:01.404251Z",
     "shell.execute_reply.started": "2020-08-15T12:35:01.380253Z"
    }
   },
   "outputs": [
    {
     "data": {
      "text/plain": [
       "801.9545356980955"
      ]
     },
     "execution_count": 16,
     "metadata": {},
     "output_type": "execute_result"
    }
   ],
   "source": [
    "#--- Desvio padrão\n",
    "\n",
    "dados[\"body_mass_g\"].std()"
   ]
  },
  {
   "cell_type": "code",
   "execution_count": 17,
   "metadata": {
    "execution": {
     "iopub.execute_input": "2020-08-15T12:35:01.409253Z",
     "iopub.status.busy": "2020-08-15T12:35:01.408251Z",
     "iopub.status.idle": "2020-08-15T12:35:01.438253Z",
     "shell.execute_reply": "2020-08-15T12:35:01.436259Z",
     "shell.execute_reply.started": "2020-08-15T12:35:01.408251Z"
    }
   },
   "outputs": [
    {
     "data": {
      "text/plain": [
       "643131.0773267479"
      ]
     },
     "execution_count": 17,
     "metadata": {},
     "output_type": "execute_result"
    }
   ],
   "source": [
    "801.9545356980955 * 801.9545356980955"
   ]
  },
  {
   "cell_type": "markdown",
   "metadata": {},
   "source": [
    "### 6.3. Medidas separatrizes"
   ]
  },
  {
   "cell_type": "code",
   "execution_count": 18,
   "metadata": {
    "execution": {
     "iopub.execute_input": "2020-08-15T12:35:01.441253Z",
     "iopub.status.busy": "2020-08-15T12:35:01.440252Z",
     "iopub.status.idle": "2020-08-15T12:35:01.469253Z",
     "shell.execute_reply": "2020-08-15T12:35:01.467251Z",
     "shell.execute_reply.started": "2020-08-15T12:35:01.441253Z"
    }
   },
   "outputs": [
    {
     "data": {
      "text/plain": [
       "0.25    3550.0\n",
       "0.50    4050.0\n",
       "0.75    4750.0\n",
       "Name: body_mass_g, dtype: float64"
      ]
     },
     "execution_count": 18,
     "metadata": {},
     "output_type": "execute_result"
    }
   ],
   "source": [
    "#--- Quartis\n",
    "\n",
    "dados[\"body_mass_g\"].quantile([0.25,0.5,0.75])"
   ]
  },
  {
   "cell_type": "markdown",
   "metadata": {},
   "source": [
    "# É isto, valeu pessoal!"
   ]
  },
  {
   "cell_type": "markdown",
   "metadata": {},
   "source": [
    "![ texto](https://sites.google.com/site/midiasnaeducacaojkrm/_/rsrc/1321474711924/valeu-google/380598_158161577613618_100002593294243_253582_1748434712_n.jpg)"
   ]
  }
 ],
 "metadata": {
  "kernelspec": {
   "display_name": "Python 3",
   "language": "python",
   "name": "python3"
  },
  "language_info": {
   "codemirror_mode": {
    "name": "ipython",
    "version": 3
   },
   "file_extension": ".py",
   "mimetype": "text/x-python",
   "name": "python",
   "nbconvert_exporter": "python",
   "pygments_lexer": "ipython3",
   "version": "3.7.6"
  }
 },
 "nbformat": 4,
 "nbformat_minor": 4
}
