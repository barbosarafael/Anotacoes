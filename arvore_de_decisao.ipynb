{
  "nbformat": 4,
  "nbformat_minor": 0,
  "metadata": {
    "colab": {
      "name": "arvore_de_decisao",
      "provenance": [],
      "collapsed_sections": []
    },
    "kernelspec": {
      "name": "python3",
      "display_name": "Python 3"
    }
  },
  "cells": [
    {
      "cell_type": "markdown",
      "metadata": {
        "id": "iSMkQ2SOcLAo",
        "colab_type": "text"
      },
      "source": [
        "# Anotações e um projeto com árvore de decisão para regressão\n",
        "\n",
        "- Tentarei focar na prática e dispensar um pouco a teoria com fórmulas;\n",
        "\n",
        "- Entretanto, se for algo que vejo que é útil para o entendimento, com certeza entretará;\n",
        "\n"
      ]
    },
    {
      "cell_type": "markdown",
      "metadata": {
        "id": "pIwDfVud4GfO",
        "colab_type": "text"
      },
      "source": [
        "# 1. Árvore de decisão\n",
        "\n",
        "---"
      ]
    },
    {
      "cell_type": "markdown",
      "metadata": {
        "id": "NwmssNpfrnWd",
        "colab_type": "text"
      },
      "source": [
        "## 1.1. Introdução\n",
        "\n",
        "- É um modelo de aprendizado de máquina **supervisionado** que serve tanto para classificação quanto para regressão, isto é, precisam de variáveis explicativas para prever uma variável target;\n",
        "\n",
        "- Também serve como visualização para tomada de decisões, já que ela parece um fluxograma;\n",
        "\n",
        "- As variáveis explicativas podem ser de qualquer tipo, seja ela quantitativa ou qualitativa;\n"
      ]
    },
    {
      "cell_type": "markdown",
      "metadata": {
        "id": "DCQOsUhNrtWy",
        "colab_type": "text"
      },
      "source": [
        "## 1.2. Terminologia\n",
        "\n",
        "\n",
        "<p align=\"center\">\n",
        "  <img src=\"https://i1.wp.com/www.vooo.pro/insights/wp-content/uploads/2016/12/RDS-Vooo_insights-Tutorial_arvore_de_decisao_02.jpg?resize=768%2C446&ssl=1\" alt=\"drawing\" width=\"600\" height=\"400\"/>\n",
        "\n",
        "Retirado de: https://www.vooo.pro/insights/um-tutorial-completo-sobre-a-modelagem-baseada-em-tree-arvore-do-zero-em-r-python/\n",
        "\n",
        "</p>\n",
        "\n",
        "1. **Nó raiz**: O ponto de partida de toda árvore (mais pra frente vemos como é feita a escolha desta variável), ele possui maior nível hierárquico e faz a ligação inicial para outros elementos;\n",
        "\n",
        "2. **Divisão**: É o processo de dividir um nó em dois ou mais sub-nós;\n",
        "\n",
        "3. **Nó de decisão**: Quando dividimos os nós (ou sub-nós) em sub-nós adicionais, através da condição **se, então**;\n",
        "\n",
        "4. **Folha ou nó de término**: São os nós em que não ocorrem mais divisões, estes podem ser os últimos da árvore e contém um valor contínuo ou categórico (a categoria final escolhida);\n",
        "\n",
        "5. **Poda**: Processo de remover alguns dos elementos da árvore final, podendo ser nós, sub-nós, etc.\n",
        "\n",
        "6. **Nó pai e filho**: Nó divido entre sub-nós. O nó é chamado de pai e os sub-nós chamados de filhos.\n",
        "\n",
        "> Resumo: A árvore armazena regras em seus nós (**se então**) e, baseado nas regras, temos uma decisão que será armazenada na **folha ou nó de término**.\n",
        "\n"
      ]
    },
    {
      "cell_type": "markdown",
      "metadata": {
        "id": "2XZv6uRLygom",
        "colab_type": "text"
      },
      "source": [
        "## 1.3. Divisão dos nós\n",
        "\n",
        "- "
      ]
    },
    {
      "cell_type": "markdown",
      "metadata": {
        "id": "du6ZLsomhzeG",
        "colab_type": "text"
      },
      "source": [
        "# Referências\n",
        "\n",
        "---\n",
        "\n",
        "1. Elements of Statistical Learning\n",
        "2. Introdução à Ciência de Dados Fundamentos e Aplicações\n",
        "3. https://medium.com/machine-learning-beyond-deep-learning/%C3%A1rvores-de-decis%C3%A3o-3f52f6420b69\n",
        "4. https://www.wrprates.com/o-que-e-arvore-de-decisao-decision-tree-linguagem-r/\n",
        "5. https://www.maxwell.vrac.puc-rio.br/7587/7587_4.PDF\n",
        "6. https://edisciplinas.usp.br/pluginfile.php/4469825/mod_resource/content/1/ArvoresDecisao_normalsize.pdf\n",
        "7. https://www.cin.ufpe.br/~pacm/SI/ArvoreDecisaoIndutiva.pdf\n",
        "8. https://www.vooo.pro/insights/um-tutorial-completo-sobre-a-modelagem-baseada-em-tree-arvore-do-zero-em-r-python/\n",
        "9. https://minerandodados.com.br/arvores-de-decisao-conceitos-e-aplicacoes/"
      ]
    }
  ]
}