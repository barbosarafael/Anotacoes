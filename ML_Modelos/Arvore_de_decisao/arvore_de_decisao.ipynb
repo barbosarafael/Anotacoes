{
  "nbformat": 4,
  "nbformat_minor": 0,
  "metadata": {
    "colab": {
      "name": "arvore_de_decisao",
      "provenance": [],
      "collapsed_sections": []
    },
    "kernelspec": {
      "name": "python3",
      "display_name": "Python 3"
    }
  },
  "cells": [
    {
      "cell_type": "markdown",
      "metadata": {
        "id": "iSMkQ2SOcLAo",
        "colab_type": "text"
      },
      "source": [
        "# Anotações e um projeto com Árvore de Decisão em Python\n",
        "\n",
        "\n",
        "- Tentarei focar na prática e dispensar um pouco a teoria com fórmulas. Entretanto, se for algo que vejo que é útil para o entendimento, com certeza entretará;\n",
        "\n",
        "- Terá um exemplo de regressão e classificação;\n",
        "\n",
        "- LinkedIn: https://www.linkedin.com/in/rafael-barbosa0/\n",
        "\n",
        "- Github: https://github.com/barbosarafael\n",
        "\n",
        "\n",
        "<p align=\"center\">\n",
        "  <img alt=\"decision_tree\" src=\"https://i1.wp.com/www.vooo.pro/insights/wp-content/uploads/2016/12/RDS-Vooo_insights-Tutorial_arvore_de_decisao_02.jpg?resize=768%2C446&ssl=1\" alt=\"drawing\" width=\"600\" height=\"400\"/>\n",
        "  <br>\n",
        "    <em> <b>Retirado de:</b> https://www.vooo.pro/insights/um-tutorial-completo-sobre-a-modelagem-baseada-em-tree-arvore-do-zero-em-r-python/ </em>\n",
        "</p>\n",
        "\n",
        "\n"
      ]
    },
    {
      "cell_type": "markdown",
      "metadata": {
        "id": "NwmssNpfrnWd",
        "colab_type": "text"
      },
      "source": [
        "# 1. Introdução\n",
        "\n",
        "---\n",
        "\n",
        "- É um modelo de aprendizado de máquina **supervisionado** que serve tanto para classificação quanto para regressão, isto é, precisam de variáveis explicativas para prever uma variável target;\n",
        "\n",
        "- Também serve como visualização para tomada de decisões, já que ela parece um fluxograma;\n",
        "\n",
        "- As variáveis explicativas podem ser de qualquer tipo, seja ela quantitativa ou qualitativa;\n"
      ]
    },
    {
      "cell_type": "markdown",
      "metadata": {
        "id": "DCQOsUhNrtWy",
        "colab_type": "text"
      },
      "source": [
        "# 2. Terminologia\n",
        "\n",
        "---\n",
        "\n",
        "\n",
        "1. **Nó raiz**: O ponto de partida de toda árvore (mais pra frente vemos como é feita a escolha desta variável), ele possui maior nível hierárquico e faz a ligação inicial para outros elementos;\n",
        "\n",
        "2. **Divisão**: É o processo de dividir um nó em dois ou mais sub-nós;\n",
        "\n",
        "3. **Nó de decisão**: Quando dividimos os nós (ou sub-nós) em sub-nós adicionais, através da condição **se, então**;\n",
        "\n",
        "4. **Folha ou nó de término**: São os nós em que não ocorrem mais divisões, estes podem ser os últimos da árvore e contém um valor contínuo ou categórico (a categoria final escolhida);\n",
        "\n",
        "5. **Poda**: Processo de remover alguns dos elementos da árvore final, podendo ser nós, sub-nós, etc.\n",
        "\n",
        "6. **Nó pai e filho**: Nó divido entre sub-nós. O nó é chamado de pai e os sub-nós chamados de filhos.\n",
        "\n",
        "> Resumo: A árvore armazena regras em seus nós (**se, então**) e, baseado nas regras, temos uma decisão que será armazenada na **folha ou nó de término**.\n",
        "\n"
      ]
    },
    {
      "cell_type": "markdown",
      "metadata": {
        "id": "2XZv6uRLygom",
        "colab_type": "text"
      },
      "source": [
        "# 3. Construção da árvore, Divisão dos nós e Impureza\n",
        "\n",
        "---\n",
        "\n",
        "\n",
        "<p align=\"center\">\n",
        "  <img alt=\"decision_tree\" src=\"https://www.model-railroad-infoguy.com/images/suncoasttree.jpg\" alt=\"drawing\" width=\"300\" height=\"300\"/>\n",
        "  <br>\n",
        "    <em> <b>Retirado de:</b> https://www.model-railroad-infoguy.com/trees.html </em>\n",
        "</p>\n",
        "\n",
        "\n",
        "- Ela particiona o espaço gerado pelas variáveis explicativas ($ X_i $) em algumas regiões para que estas partições sejam as mais puras possíveis;\n",
        "\n",
        "- A árvore divide os nós em todas as variáveis que estão disponíveis e seleciona uma partição que resulta em sub-nós mais homogêneos (relacionados a pureza);\n",
        "\n",
        "- **Pureza**: Se todos os elementos pertencem a uma única classe/categoria então ele é chamado de puro;\n",
        "\n",
        "- Devido a profundidade e a divisão da árvore, ela pode aprender demais e acabar sofrendo o **overfitting** (quando o modelo aprende o padrão total/perfeito dos dados nos dados de treino e quando pedimos para testar em dados diferentes acaba por dar erros absurdos);\n",
        "\n",
        "- Esse problema pode ser contornado a partir da **poda** da árvore e sobre o controle dos parâmetros;\n",
        "\n",
        "- Podemos controlar a pureza por meio de 4 métodos:\n",
        "\n",
        "  1. Índice Gini;\n",
        "  2. Entropia e Ganho de informação;\n",
        "  3. Qui quadrado;\n",
        "  4. Redução na variância.\n",
        "\n",
        "- No presente notebook, explico somente as primeiras duas, sendo elas as mais conhecidas e implementadas nos softwares atuais.\n"
      ]
    },
    {
      "cell_type": "markdown",
      "metadata": {
        "id": "IUnXD11jzyfT",
        "colab_type": "text"
      },
      "source": [
        "## 3.1. Índice de Gini\n",
        "\n",
        "- Mede o grau de homogeneidade dos dados. Por isso, pode ser usado para calcular a pureza dos nós;\n",
        "\n",
        "- Em um determinado nó (podendo ser raiz ou divisão qualquer), o índice é dado por:\n",
        "\n",
        "$$ IG = 1 - \\sum_{i = 1}^{c} p_{i}^{2} $$\n",
        "\n",
        "onde $ p_{i} $ é a frequência de cada categoria em cada nó e c o número de categorias.\n",
        "\n",
        "- Quando o IG é 0, indica que todos as observações pertencem a somente uma categoria ou existe somente uma;\n",
        "\n",
        "- Quando se aproxima de 1, indica que as observações são distribuídas aleatoriamente nas categorias;\n",
        "\n",
        "- Quando o valor é de 0,5 indica que as observações são igualmente distribuídas nas categorias;\n",
        "\n",
        "- Executa divisões binárias, isto é, vai para esquerda ou direita;"
      ]
    },
    {
      "cell_type": "markdown",
      "metadata": {
        "id": "TuuevZlixc4s",
        "colab_type": "text"
      },
      "source": [
        "## 3.2. Entropia e Ganho de Informação\n",
        "\n",
        "- A Entropia caracteriza a impureza dos dados, sendo também uma medida de verificação de homogeneidade dos dados em relação a sua classificação;\n",
        "\n",
        "- Novamente o conceito de **pureza**: Se todos os elementos pertencem a uma única classe/categoria então ele é chamado de puro;\n",
        "\n",
        "- Quanto mais puro é um nó, menor a quantidade de informação que ele precisa para ser descrito e vice-versa;\n",
        "\n",
        "- Por meio da teoria da informação, podemos medir esse grau de desorganização/impureza que é a entropia. A fórmula é dada por \n",
        "\n",
        "$$ Entropia(S) = \\sum_{i = 1}^{c} - p_i \\log_{2}(p_i) $$\n",
        "\n",
        "- Podemos notar a partir do gráfico que:\n",
        "\n",
        "  - Se a entropia for completamente homogênea, a entropia será 0 (extremidades);\n",
        "\n",
        "  - Se as categorias possuem a mesma probabilidade, isto é 50/50, então a entropia será 1 (máxima);\n",
        "\n",
        "\n",
        "<p align=\"center\">\n",
        "  <img alt=\"decision_tree\" src=\"https://sites.google.com/site/mansoldo1986/_/rsrc/1472876171683/home/leavesphp/classificacao-por-arvores-de-decisao/criteriodeselecaodeatributos/entropia%20graph1.jpg\n",
        "\" alt=\"drawing\" width=\"400\" height=\"300\">\n",
        "  <br>\n",
        "    <em> <b>Retirado de</b>: https://sites.google.com/site/mansoldo1986/home/leavesphp/classificacao-por-arvores-de-decisao </em>\n",
        "</p>\n",
        "\n",
        "\n",
        "- O ganho de informação pode ser baseado na entropia. Nesse caso, **há um ganho de informação quando em alguma divisão dos nós nos retorna uma redução na entropia**;\n",
        "\n",
        "- Se as probabilidades para o evento tenderem a somente uma categoria da variável, i.e. 99% de chance para categoria1 e 1% para categoria2, então teremos quase **nenhum ganho de informação** pois já sabemos que é bastante provavel uma categoria;\n",
        "\n",
        "- Se as probabilidade para as mesmas categorias serem um pouco mais iguais, i.e. 60/40, 50/50, 55/45, etc, temos uma \"surpresa\" em um possível resultado, pois não sabemos realmente qual categoria será a escolhida. Logo, teremos um **ganho de informação**. \n",
        "\n",
        "- Novamente, o ganho de informação é baseado na redução da entropia após a contrução de um nó. O ideal é que os nós sejam os mais homogêneos possíveis para que eles nos retornem um maior ganho de informação, logo uma menor entropia.\n"
      ]
    },
    {
      "cell_type": "markdown",
      "metadata": {
        "id": "hQsKU5r1GPU4",
        "colab_type": "text"
      },
      "source": [
        "# 4. *Overfitting*\n",
        "\n",
        "---\n",
        "\n",
        "\n",
        "<p align=\"center\">\n",
        "  <img alt=\"decision_tree\" src=\"https://miro.medium.com/max/1400/1*cdvfzvpkJkUudDEryFtCnA.png\" width=\"700\" height=\"300\">\n",
        "  <br>\n",
        "    <em> <b>Retirado de</b>: https://medium.com/@srjoglekar246/overfitting-and-human-behavior-5186df1e7d19 </em>\n",
        "</p>\n",
        "\n",
        "\n",
        "- Como podemos observar na Figura acima, o overfitting é o problema que temos quando o modelo aprende demais o padrão nos dados de treino, tendo erro quase nulo, e em dados novos o erro acaba por aumentar absurdamente;\n",
        "\n",
        "- Em modelos de árvore, se não controlarmos seus parâmetros, ela simplesmente irá criar uma folha (atributo final) para cada observação, fazendo com que árvore seja imensa, englobando todas as possibilidades, como no exemplo abaixo;\n",
        "\n",
        "\n",
        "<p align=\"center\">\n",
        "  <img alt=\"decision_tree\" src=\"https://i.stack.imgur.com/otsP3.png\" width=\"400\" height=\"300\">\n",
        "  <br>\n",
        "    <em><b>Retirado de</b>: https://stats.stackexchange.com/questions/230581/decision-tree-too-large-to-interpret</em>\n",
        "</p>\n",
        "\n",
        "- Podemos contornar esse problema de *overfitting* na árvore de duas maneiras:\n",
        "\n",
        "  - Controlando os parâmetros da árvore de decisão (antes ou depois da aplicação do modelo);\n",
        "  \n",
        "  - Podando a árvore (após a aplicação do modelo)."
      ]
    },
    {
      "cell_type": "markdown",
      "metadata": {
        "id": "7dMiAxSzOQhK",
        "colab_type": "text"
      },
      "source": [
        "## 4.1. Parâmetros da árvore de decisão\n",
        "\n",
        "- Estes parâmetros nos dizem ao tamanho da nossa árvore;\n",
        "\n",
        "- Utilizaremos os conceitos do `sklearn` em Python;"
      ]
    },
    {
      "cell_type": "markdown",
      "metadata": {
        "id": "0gYaTaBQ-12y",
        "colab_type": "text"
      },
      "source": [
        "### 4.1.1. Max_depth\n",
        "\n",
        "- Maior profundidade permitida da árvore de decisão verticalmente;\n",
        "\n",
        "- Conforme o número deste parâmetro aumenta, a complexidade da árvore também, junto com a possibilidade de overfitting. Já que a árvore será \"grande\" e irá aprender todos os padrões dos dados;\n",
        "\n",
        "- O valor **default** deste parâmetro no `sklearn` é de None (Nenhum) mas é controlado por outro parâmetro chamado de `min_samples_split`."
      ]
    },
    {
      "cell_type": "markdown",
      "metadata": {
        "id": "1mK7iz7LC03E",
        "colab_type": "text"
      },
      "source": [
        "### 4.1.2. Min_samples_split\n",
        "\n",
        "- Número mínimo de amostras/observações para dividir um nó;\n",
        "\n",
        "- O valor **default** deste parâmetro no `sklearn` é de 2 observações, isto é, \n",
        "a partir de 2 observações já pode dividir em um nó;"
      ]
    },
    {
      "cell_type": "markdown",
      "metadata": {
        "id": "6Ctmwl38GPOs",
        "colab_type": "text"
      },
      "source": [
        "### 4.1.3. Min_samples_leaf\n",
        "\n",
        "- Número mínimo de amostras/observações necessárias para o último nó (folha);\n",
        "\n",
        "- O valor **default** deste parâmetro no `sklearn` é de 1 observação;\n",
        "\n",
        "- Deve-se deixar pelo menos 1 observação em cada um dos ramos, seja ele esquerdo ou direito, para ser um ponto de divisão (como vimos no parâmetro acima);"
      ]
    },
    {
      "cell_type": "markdown",
      "metadata": {
        "id": "CkchKhYJCLMj",
        "colab_type": "text"
      },
      "source": [
        "### 4.1.4. max_features\n",
        "\n",
        "- Número de variáveis/features utilizadas para tomar a decisão (esquerda ou direita);\n",
        "\n",
        "- Dado que é **difícil ou custoso** olhar para todos os seus dados e variáveis em todas as divisões, se você tiver 35 variáveis e setar esse parâmetro como 10, ele selecionará 10 variáveis aleatoriamente para escolher a próxima divisão, e assim por diante;\n",
        "\n",
        "- O valor **default** deste parâmetro no `sklearn` é \"Nenhum\". Logo, ele irá todos seus dados, mas existem opções, elas são:\n",
        "\n",
        "  - \"Auto\", então max_features = $ \\sqrt{n\\_features} $.\n",
        "\n",
        "  - \"Sqrt\", então max_features = $ \\sqrt{n\\_features} $.\n",
        "\n",
        "  - \"log2\", então max_features = $ \\log_{2}(n\\_features) $.\n",
        "\n",
        "  - \"None\", então max_features = n_features."
      ]
    },
    {
      "cell_type": "markdown",
      "metadata": {
        "id": "yySR8TFGHTCg",
        "colab_type": "text"
      },
      "source": [
        "## 4.2. Poda da Árvore (Pruning)\n",
        "\n",
        "- Pré-podagem: Parar o crescimento da árvore mais cedo;\n",
        "\n",
        "- Pós-podagem: Acontece quando a árvore já está completa;\n",
        "\n",
        "- Pode ser feito da seguinte maneira:\n",
        "\n",
        "  1. Percorre a ávore em profundidade;\n",
        "\n",
        "  2. Para cada nó de decisão, calcula: \n",
        "\n",
        "    - Erro do nó;\n",
        "\n",
        "    - Soma dos erros dos nós descendentes.\n",
        "\n",
        "  3. Se o erro do nó é menor ou igual à soma dos erros dos nós descendentes então o nó é transformado em folha. \n",
        "\n",
        "- Valorizando a pureza;\n",
        "\n",
        "- Na pós-podagem, a sub-árvore com melhor desempenho é escolhida;\n",
        "\n",
        "- Segundo este [link](https://www.vooo.pro/insights/um-tutorial-completo-sobre-a-modelagem-baseada-em-tree-arvore-do-zero-em-r-python/), no `sklearn` não existe a implementação da podageme, entretanto no R tem a função `prune` do pacote `rpart`."
      ]
    },
    {
      "cell_type": "markdown",
      "metadata": {
        "id": "jtkhGyBULQXp",
        "colab_type": "text"
      },
      "source": [
        "# 5. Quando utilizar modelos baseados em árvore ?\n",
        "\n",
        "---\n",
        "\n",
        "- Quando a relação das variáveis explicativas com a target não é linear;\n",
        "\n",
        "- Uma segunda opinião, segundo o [Mário Filho](https://www.mariofilho.com/). Na dúvida entre modelos, teste todos."
      ]
    },
    {
      "cell_type": "markdown",
      "metadata": {
        "id": "3fTNXeLzNT7R",
        "colab_type": "text"
      },
      "source": [
        "# 6. Aplicação da Árvore de **Regressão** em Python\n",
        "\n",
        "---\n",
        "\n",
        "<p align=\"center\">\n",
        "  <img alt=\"decision_tree\" src=\"https://www.chevrolet.com.br/content/dam/chevrolet/mercosur/brazil/portuguese/index/cars/cars-subcontent/segmento-carros/02-images/onix-premier.png\" width=\"700\" height=\"400\">\n",
        "  <br>\n",
        "    <em> Imagem aleatória de um carro qualquer para representar nosso banco de dados. <b>Retirado de</b>: https://www.chevrolet.com.br/carros </em>\n",
        "</p>\n",
        "\n",
        "O nosso banco de dados diz respeito a carros usados do site  www.cardekho.com, e pode ser achado neste [link](https://www.kaggle.com/nehalbirla/vehicle-dataset-from-cardekho). Entretanto, salvei no meu githut para melhor carregá-lo.\n",
        "\n",
        "As variáveis que temos disponíveis são: \n",
        "\n",
        "1. Car_Name: Nome do carro;\n",
        "2. Year: Ano de fabricação;\n",
        "3. **Selling_Price (Target)**: Preço de venda;\n",
        "4. Present_Price: Preço atual;\n",
        "5. Kms_Driven: Quantos KMs o carro já percorreu;\n",
        "6. Fuel_Type: Tipo de gasolina;\n",
        "7. Seller_Type: Tipo de vendedor;\n",
        "8. Transmission: Câmbio manual ou automático;\n",
        "9. Owner: Proprietário."
      ]
    },
    {
      "cell_type": "markdown",
      "metadata": {
        "id": "a1THO2atSlaU",
        "colab_type": "text"
      },
      "source": [
        "## 6.1. Análise Exploratória dos Dados\n",
        "\n",
        "- Por ser um mini-tutorial sobre árvore de decisão, não irei aprofundar sobre o dataset;\n",
        "\n",
        "- A EDA será univariada."
      ]
    },
    {
      "cell_type": "code",
      "metadata": {
        "id": "v8qG5oa3OufK",
        "colab_type": "code",
        "colab": {}
      },
      "source": [
        "import pandas as pd\n",
        "import numpy as np\n",
        "import matplotlib.pyplot as plt\n",
        "import seaborn as sns\n",
        "\n",
        "plt.style.use(\"seaborn-muted\")\n",
        "%matplotlib inline\n",
        "pd.set_option('display.max_columns', None)"
      ],
      "execution_count": 40,
      "outputs": []
    },
    {
      "cell_type": "code",
      "metadata": {
        "id": "HqSRmZFDOu7A",
        "colab_type": "code",
        "colab": {
          "base_uri": "https://localhost:8080/",
          "height": 204
        },
        "outputId": "c1dce20c-aa66-4c2d-fc8b-383f632dc638"
      },
      "source": [
        "banco = pd.read_csv(filepath_or_buffer = \"https://raw.githubusercontent.com/barbosarafael/Anotacoes/master/ML_Modelos/Arvore_de_decisao/car_data.csv\")\n",
        "\n",
        "banco.head()"
      ],
      "execution_count": 41,
      "outputs": [
        {
          "output_type": "execute_result",
          "data": {
            "text/html": [
              "<div>\n",
              "<style scoped>\n",
              "    .dataframe tbody tr th:only-of-type {\n",
              "        vertical-align: middle;\n",
              "    }\n",
              "\n",
              "    .dataframe tbody tr th {\n",
              "        vertical-align: top;\n",
              "    }\n",
              "\n",
              "    .dataframe thead th {\n",
              "        text-align: right;\n",
              "    }\n",
              "</style>\n",
              "<table border=\"1\" class=\"dataframe\">\n",
              "  <thead>\n",
              "    <tr style=\"text-align: right;\">\n",
              "      <th></th>\n",
              "      <th>Car_Name</th>\n",
              "      <th>Year</th>\n",
              "      <th>Selling_Price</th>\n",
              "      <th>Present_Price</th>\n",
              "      <th>Kms_Driven</th>\n",
              "      <th>Fuel_Type</th>\n",
              "      <th>Seller_Type</th>\n",
              "      <th>Transmission</th>\n",
              "      <th>Owner</th>\n",
              "    </tr>\n",
              "  </thead>\n",
              "  <tbody>\n",
              "    <tr>\n",
              "      <th>0</th>\n",
              "      <td>ritz</td>\n",
              "      <td>2014</td>\n",
              "      <td>3.35</td>\n",
              "      <td>5.59</td>\n",
              "      <td>27000</td>\n",
              "      <td>Petrol</td>\n",
              "      <td>Dealer</td>\n",
              "      <td>Manual</td>\n",
              "      <td>0</td>\n",
              "    </tr>\n",
              "    <tr>\n",
              "      <th>1</th>\n",
              "      <td>sx4</td>\n",
              "      <td>2013</td>\n",
              "      <td>4.75</td>\n",
              "      <td>9.54</td>\n",
              "      <td>43000</td>\n",
              "      <td>Diesel</td>\n",
              "      <td>Dealer</td>\n",
              "      <td>Manual</td>\n",
              "      <td>0</td>\n",
              "    </tr>\n",
              "    <tr>\n",
              "      <th>2</th>\n",
              "      <td>ciaz</td>\n",
              "      <td>2017</td>\n",
              "      <td>7.25</td>\n",
              "      <td>9.85</td>\n",
              "      <td>6900</td>\n",
              "      <td>Petrol</td>\n",
              "      <td>Dealer</td>\n",
              "      <td>Manual</td>\n",
              "      <td>0</td>\n",
              "    </tr>\n",
              "    <tr>\n",
              "      <th>3</th>\n",
              "      <td>wagon r</td>\n",
              "      <td>2011</td>\n",
              "      <td>2.85</td>\n",
              "      <td>4.15</td>\n",
              "      <td>5200</td>\n",
              "      <td>Petrol</td>\n",
              "      <td>Dealer</td>\n",
              "      <td>Manual</td>\n",
              "      <td>0</td>\n",
              "    </tr>\n",
              "    <tr>\n",
              "      <th>4</th>\n",
              "      <td>swift</td>\n",
              "      <td>2014</td>\n",
              "      <td>4.60</td>\n",
              "      <td>6.87</td>\n",
              "      <td>42450</td>\n",
              "      <td>Diesel</td>\n",
              "      <td>Dealer</td>\n",
              "      <td>Manual</td>\n",
              "      <td>0</td>\n",
              "    </tr>\n",
              "  </tbody>\n",
              "</table>\n",
              "</div>"
            ],
            "text/plain": [
              "  Car_Name  Year  Selling_Price  Present_Price  Kms_Driven Fuel_Type  \\\n",
              "0     ritz  2014           3.35           5.59       27000    Petrol   \n",
              "1      sx4  2013           4.75           9.54       43000    Diesel   \n",
              "2     ciaz  2017           7.25           9.85        6900    Petrol   \n",
              "3  wagon r  2011           2.85           4.15        5200    Petrol   \n",
              "4    swift  2014           4.60           6.87       42450    Diesel   \n",
              "\n",
              "  Seller_Type Transmission  Owner  \n",
              "0      Dealer       Manual      0  \n",
              "1      Dealer       Manual      0  \n",
              "2      Dealer       Manual      0  \n",
              "3      Dealer       Manual      0  \n",
              "4      Dealer       Manual      0  "
            ]
          },
          "metadata": {
            "tags": []
          },
          "execution_count": 41
        }
      ]
    },
    {
      "cell_type": "markdown",
      "metadata": {
        "id": "KUauFdIhccYW",
        "colab_type": "text"
      },
      "source": [
        "- Podemos, por meio das informações abaixo, verificar que o preço de venda possui grande parte dos valores abaixo de sua mediana;\n",
        "\n",
        "- Alguns valores estão na cauda a direita, provavelmente, indicando que são **outliers**;"
      ]
    },
    {
      "cell_type": "code",
      "metadata": {
        "id": "5mudP7R1azoP",
        "colab_type": "code",
        "colab": {
          "base_uri": "https://localhost:8080/",
          "height": 405
        },
        "outputId": "8701476c-f88c-4f26-f5cd-de90acf36ecf"
      },
      "source": [
        "plt.figure(figsize = [10, 6])\n",
        "\n",
        "sns.distplot(banco[\"Selling_Price\"], hist = True, color = \"orangered\")\n",
        "\n",
        "plt.title(\"Distribuição do preço de venda dos carros\")\n",
        "plt.show()"
      ],
      "execution_count": 42,
      "outputs": [
        {
          "output_type": "display_data",
          "data": {
            "image/png": "[encoded data removed]",
            "text/plain": [
              "<Figure size 720x432 with 1 Axes>"
            ]
          },
          "metadata": {
            "tags": [],
            "needs_background": "light"
          }
        }
      ]
    },
    {
      "cell_type": "markdown",
      "metadata": {
        "id": "FJfXjaNSTQFR",
        "colab_type": "text"
      },
      "source": [
        "- Podemos observar que a escala de valores para as variáveis de preço devem estar em $ valor \\times 10^n $, onde n é algum valor entre 3 a 6;\n",
        "\n",
        "- Não sou nenhum especialista em carros, mas o valor máximo de 500.000 kms rodados para um carro usado é relativamente alto;\n",
        "\n",
        "- Podemos ter uma relação entre Kms pecorridos e os preços;\n",
        "\n",
        "- E, também, provavelmente os preços serão correlacionados;\n",
        "\n",
        "- A variável de Kms percorridos possui alta variação."
      ]
    },
    {
      "cell_type": "code",
      "metadata": {
        "id": "x1jRhOXFOvYY",
        "colab_type": "code",
        "colab": {
          "base_uri": "https://localhost:8080/",
          "height": 142
        },
        "outputId": "86b522eb-9169-4c4f-8518-3663a20a0d4d"
      },
      "source": [
        "var_quant = [\"Selling_Price\", \"Present_Price\", \"Kms_Driven\"]\n",
        "\n",
        "banco[var_quant].describe().T.round(2)"
      ],
      "execution_count": 43,
      "outputs": [
        {
          "output_type": "execute_result",
          "data": {
            "text/html": [
              "<div>\n",
              "<style scoped>\n",
              "    .dataframe tbody tr th:only-of-type {\n",
              "        vertical-align: middle;\n",
              "    }\n",
              "\n",
              "    .dataframe tbody tr th {\n",
              "        vertical-align: top;\n",
              "    }\n",
              "\n",
              "    .dataframe thead th {\n",
              "        text-align: right;\n",
              "    }\n",
              "</style>\n",
              "<table border=\"1\" class=\"dataframe\">\n",
              "  <thead>\n",
              "    <tr style=\"text-align: right;\">\n",
              "      <th></th>\n",
              "      <th>count</th>\n",
              "      <th>mean</th>\n",
              "      <th>std</th>\n",
              "      <th>min</th>\n",
              "      <th>25%</th>\n",
              "      <th>50%</th>\n",
              "      <th>75%</th>\n",
              "      <th>max</th>\n",
              "    </tr>\n",
              "  </thead>\n",
              "  <tbody>\n",
              "    <tr>\n",
              "      <th>Selling_Price</th>\n",
              "      <td>301.0</td>\n",
              "      <td>4.66</td>\n",
              "      <td>5.08</td>\n",
              "      <td>0.10</td>\n",
              "      <td>0.9</td>\n",
              "      <td>3.6</td>\n",
              "      <td>6.0</td>\n",
              "      <td>35.0</td>\n",
              "    </tr>\n",
              "    <tr>\n",
              "      <th>Present_Price</th>\n",
              "      <td>301.0</td>\n",
              "      <td>7.63</td>\n",
              "      <td>8.64</td>\n",
              "      <td>0.32</td>\n",
              "      <td>1.2</td>\n",
              "      <td>6.4</td>\n",
              "      <td>9.9</td>\n",
              "      <td>92.6</td>\n",
              "    </tr>\n",
              "    <tr>\n",
              "      <th>Kms_Driven</th>\n",
              "      <td>301.0</td>\n",
              "      <td>36947.21</td>\n",
              "      <td>38886.88</td>\n",
              "      <td>500.00</td>\n",
              "      <td>15000.0</td>\n",
              "      <td>32000.0</td>\n",
              "      <td>48767.0</td>\n",
              "      <td>500000.0</td>\n",
              "    </tr>\n",
              "  </tbody>\n",
              "</table>\n",
              "</div>"
            ],
            "text/plain": [
              "               count      mean       std     min      25%      50%      75%  \\\n",
              "Selling_Price  301.0      4.66      5.08    0.10      0.9      3.6      6.0   \n",
              "Present_Price  301.0      7.63      8.64    0.32      1.2      6.4      9.9   \n",
              "Kms_Driven     301.0  36947.21  38886.88  500.00  15000.0  32000.0  48767.0   \n",
              "\n",
              "                    max  \n",
              "Selling_Price      35.0  \n",
              "Present_Price      92.6  \n",
              "Kms_Driven     500000.0  "
            ]
          },
          "metadata": {
            "tags": []
          },
          "execution_count": 43
        }
      ]
    },
    {
      "cell_type": "markdown",
      "metadata": {
        "id": "7QgTtqo0Vxb4",
        "colab_type": "text"
      },
      "source": [
        "- Por meio da matriz de correlação é perceptível a correlação entre as variáveis de preço, logo, **a variável `Present_Price` será excluída do banco**;\n",
        "\n",
        "- Diferente da hipótese que mencionei acima de que provavelmente iria ter uma correlação negativa entre o preço de venda e a km do carro usado, na verdade nem negativa ela é.;\n",
        "\n",
        "- Apesar de fraca é positiva, isto é, as variáveis são diretamente proporcionais, claro, que temos que mencionar que a relação linear entre elas é fraca."
      ]
    },
    {
      "cell_type": "code",
      "metadata": {
        "id": "CPaexgebOvjA",
        "colab_type": "code",
        "colab": {
          "base_uri": "https://localhost:8080/",
          "height": 142
        },
        "outputId": "d296dbcb-1c99-417f-f92b-13ed7f7f569b"
      },
      "source": [
        "banco[var_quant].corr().round(4)"
      ],
      "execution_count": 44,
      "outputs": [
        {
          "output_type": "execute_result",
          "data": {
            "text/html": [
              "<div>\n",
              "<style scoped>\n",
              "    .dataframe tbody tr th:only-of-type {\n",
              "        vertical-align: middle;\n",
              "    }\n",
              "\n",
              "    .dataframe tbody tr th {\n",
              "        vertical-align: top;\n",
              "    }\n",
              "\n",
              "    .dataframe thead th {\n",
              "        text-align: right;\n",
              "    }\n",
              "</style>\n",
              "<table border=\"1\" class=\"dataframe\">\n",
              "  <thead>\n",
              "    <tr style=\"text-align: right;\">\n",
              "      <th></th>\n",
              "      <th>Selling_Price</th>\n",
              "      <th>Present_Price</th>\n",
              "      <th>Kms_Driven</th>\n",
              "    </tr>\n",
              "  </thead>\n",
              "  <tbody>\n",
              "    <tr>\n",
              "      <th>Selling_Price</th>\n",
              "      <td>1.0000</td>\n",
              "      <td>0.8790</td>\n",
              "      <td>0.0292</td>\n",
              "    </tr>\n",
              "    <tr>\n",
              "      <th>Present_Price</th>\n",
              "      <td>0.8790</td>\n",
              "      <td>1.0000</td>\n",
              "      <td>0.2036</td>\n",
              "    </tr>\n",
              "    <tr>\n",
              "      <th>Kms_Driven</th>\n",
              "      <td>0.0292</td>\n",
              "      <td>0.2036</td>\n",
              "      <td>1.0000</td>\n",
              "    </tr>\n",
              "  </tbody>\n",
              "</table>\n",
              "</div>"
            ],
            "text/plain": [
              "               Selling_Price  Present_Price  Kms_Driven\n",
              "Selling_Price         1.0000         0.8790      0.0292\n",
              "Present_Price         0.8790         1.0000      0.2036\n",
              "Kms_Driven            0.0292         0.2036      1.0000"
            ]
          },
          "metadata": {
            "tags": []
          },
          "execution_count": 44
        }
      ]
    },
    {
      "cell_type": "markdown",
      "metadata": {
        "id": "rYoMfrIzYcKr",
        "colab_type": "text"
      },
      "source": [
        "- Para a variável **Fuel_Type**:\n",
        "\n",
        "  - Petrol deve ser gasolina;\n",
        "  - A categoria Petrol engloba a maioria das informações desta variável;\n",
        "  - As demais categorias somam, aproximadamente, 20% das demais informações, logo, irei fazer uma simples transformação concatenando a categoria Diesel e CNG.\n",
        "\n",
        "- Para a variável **Seller_Type**, temos:\n",
        "\n",
        "  - A categoria que possui mais informações é a de Dealer (revendedores);\n",
        "  - Por ser uma variável que possui uma separação relativamente OK entre as categorias, ela não irá ser transformada.\n",
        "\n",
        "- Para a variável **Transmission**:\n",
        "\n",
        "  - Assim como a anterior, possui uma separação um pouco OK, apesar de tender bastante para a categoria *Manual*, mas também não será necessária nenhuma transformação;\n",
        "\n",
        "- Para a variável **Owner**:\n",
        "\n",
        "  - Nessa variável não sabemos o que representa cada categoria;\n",
        "  - Entretanto, a categoria 0 é a que maior possui informação massiva dentro de nosso banco de dados (96,35%)\n",
        "  - Assim como na variável **Fuel_type**, as demais categorias, que não somam nem 4% dos nossos dados, serão agrupadas em somente uma."
      ]
    },
    {
      "cell_type": "code",
      "metadata": {
        "id": "NXJVwzbdOvsp",
        "colab_type": "code",
        "colab": {
          "base_uri": "https://localhost:8080/",
          "height": 323
        },
        "outputId": "56238057-15fe-4a8c-bdb7-b07a550ec602"
      },
      "source": [
        "var_qual = banco[[\"Fuel_Type\", \"Seller_Type\", \"Transmission\", \"Owner\"]]\n",
        "\n",
        "for i in var_qual:\n",
        "\n",
        "  print(banco[i].value_counts(normalize = True).mul(100).round(2))\n",
        "  print(15 * \"---\")\n"
      ],
      "execution_count": 45,
      "outputs": [
        {
          "output_type": "stream",
          "text": [
            "Petrol    79.40\n",
            "Diesel    19.93\n",
            "CNG        0.66\n",
            "Name: Fuel_Type, dtype: float64\n",
            "---------------------------------------------\n",
            "Dealer        64.78\n",
            "Individual    35.22\n",
            "Name: Seller_Type, dtype: float64\n",
            "---------------------------------------------\n",
            "Manual       86.71\n",
            "Automatic    13.29\n",
            "Name: Transmission, dtype: float64\n",
            "---------------------------------------------\n",
            "0    96.35\n",
            "1     3.32\n",
            "3     0.33\n",
            "Name: Owner, dtype: float64\n",
            "---------------------------------------------\n"
          ],
          "name": "stdout"
        }
      ]
    },
    {
      "cell_type": "markdown",
      "metadata": {
        "id": "S1X4AVoCegbK",
        "colab_type": "text"
      },
      "source": [
        "## 6.2. Pré-processamento dos dados\n",
        "\n",
        "- Nesta sub-seção iremos tratar os dados e fazer as manipulações para entrar no modelo da árvore de decisão."
      ]
    },
    {
      "cell_type": "markdown",
      "metadata": {
        "id": "H-qsaqJzenBj",
        "colab_type": "text"
      },
      "source": [
        "### 6.2.1. Exclusão de variáveis\n",
        "\n",
        "- Excluir as variáveis:\n",
        "\n",
        "  - Car_Name\t\n",
        "  \n",
        "  - Present_Price"
      ]
    },
    {
      "cell_type": "code",
      "metadata": {
        "id": "5O4_JOE0Sz6W",
        "colab_type": "code",
        "colab": {
          "base_uri": "https://localhost:8080/",
          "height": 204
        },
        "outputId": "66fdc4b1-9f8e-4ed9-95ca-9c7579b92843"
      },
      "source": [
        "banco = banco.drop(columns = [\"Car_Name\", \"Present_Price\"], axis = 1)\n",
        "\n",
        "banco.head()"
      ],
      "execution_count": 46,
      "outputs": [
        {
          "output_type": "execute_result",
          "data": {
            "text/html": [
              "<div>\n",
              "<style scoped>\n",
              "    .dataframe tbody tr th:only-of-type {\n",
              "        vertical-align: middle;\n",
              "    }\n",
              "\n",
              "    .dataframe tbody tr th {\n",
              "        vertical-align: top;\n",
              "    }\n",
              "\n",
              "    .dataframe thead th {\n",
              "        text-align: right;\n",
              "    }\n",
              "</style>\n",
              "<table border=\"1\" class=\"dataframe\">\n",
              "  <thead>\n",
              "    <tr style=\"text-align: right;\">\n",
              "      <th></th>\n",
              "      <th>Year</th>\n",
              "      <th>Selling_Price</th>\n",
              "      <th>Kms_Driven</th>\n",
              "      <th>Fuel_Type</th>\n",
              "      <th>Seller_Type</th>\n",
              "      <th>Transmission</th>\n",
              "      <th>Owner</th>\n",
              "    </tr>\n",
              "  </thead>\n",
              "  <tbody>\n",
              "    <tr>\n",
              "      <th>0</th>\n",
              "      <td>2014</td>\n",
              "      <td>3.35</td>\n",
              "      <td>27000</td>\n",
              "      <td>Petrol</td>\n",
              "      <td>Dealer</td>\n",
              "      <td>Manual</td>\n",
              "      <td>0</td>\n",
              "    </tr>\n",
              "    <tr>\n",
              "      <th>1</th>\n",
              "      <td>2013</td>\n",
              "      <td>4.75</td>\n",
              "      <td>43000</td>\n",
              "      <td>Diesel</td>\n",
              "      <td>Dealer</td>\n",
              "      <td>Manual</td>\n",
              "      <td>0</td>\n",
              "    </tr>\n",
              "    <tr>\n",
              "      <th>2</th>\n",
              "      <td>2017</td>\n",
              "      <td>7.25</td>\n",
              "      <td>6900</td>\n",
              "      <td>Petrol</td>\n",
              "      <td>Dealer</td>\n",
              "      <td>Manual</td>\n",
              "      <td>0</td>\n",
              "    </tr>\n",
              "    <tr>\n",
              "      <th>3</th>\n",
              "      <td>2011</td>\n",
              "      <td>2.85</td>\n",
              "      <td>5200</td>\n",
              "      <td>Petrol</td>\n",
              "      <td>Dealer</td>\n",
              "      <td>Manual</td>\n",
              "      <td>0</td>\n",
              "    </tr>\n",
              "    <tr>\n",
              "      <th>4</th>\n",
              "      <td>2014</td>\n",
              "      <td>4.60</td>\n",
              "      <td>42450</td>\n",
              "      <td>Diesel</td>\n",
              "      <td>Dealer</td>\n",
              "      <td>Manual</td>\n",
              "      <td>0</td>\n",
              "    </tr>\n",
              "  </tbody>\n",
              "</table>\n",
              "</div>"
            ],
            "text/plain": [
              "   Year  Selling_Price  Kms_Driven Fuel_Type Seller_Type Transmission  Owner\n",
              "0  2014           3.35       27000    Petrol      Dealer       Manual      0\n",
              "1  2013           4.75       43000    Diesel      Dealer       Manual      0\n",
              "2  2017           7.25        6900    Petrol      Dealer       Manual      0\n",
              "3  2011           2.85        5200    Petrol      Dealer       Manual      0\n",
              "4  2014           4.60       42450    Diesel      Dealer       Manual      0"
            ]
          },
          "metadata": {
            "tags": []
          },
          "execution_count": 46
        }
      ]
    },
    {
      "cell_type": "markdown",
      "metadata": {
        "id": "i7CzPUKqTX-u",
        "colab_type": "text"
      },
      "source": [
        "### 6.2.2. Agrupamento de categorias\n",
        "\n",
        "- Como mencionado anteriormente, algumas variáveis possuem categorias que correspondem a grande maioria do percentual;\n",
        "\n",
        "- Logo, as demais não possuem tanta informação;"
      ]
    },
    {
      "cell_type": "code",
      "metadata": {
        "id": "zkxiBlIETXaq",
        "colab_type": "code",
        "colab": {
          "base_uri": "https://localhost:8080/",
          "height": 68
        },
        "outputId": "1c58508f-686b-4168-e63f-f3a99a1aa559"
      },
      "source": [
        "banco[\"Fuel_Type\"] = banco[\"Fuel_Type\"].apply(lambda x: 1 if x == \"Petrol\" else 0)\n",
        "\n",
        "banco[\"Fuel_Type\"].value_counts(normalize = True).mul(100).round(2)"
      ],
      "execution_count": 47,
      "outputs": [
        {
          "output_type": "execute_result",
          "data": {
            "text/plain": [
              "1    79.4\n",
              "0    20.6\n",
              "Name: Fuel_Type, dtype: float64"
            ]
          },
          "metadata": {
            "tags": []
          },
          "execution_count": 47
        }
      ]
    },
    {
      "cell_type": "code",
      "metadata": {
        "id": "ziPwWEWPVuZv",
        "colab_type": "code",
        "colab": {
          "base_uri": "https://localhost:8080/",
          "height": 68
        },
        "outputId": "6d1dc402-edbb-4a73-e0c1-c56b23a476a6"
      },
      "source": [
        "banco[\"Owner\"] = banco[\"Owner\"].apply(lambda x: 0 if x == 0 else 1)\n",
        "\n",
        "banco[\"Owner\"].value_counts(normalize = True).mul(100).round(2)"
      ],
      "execution_count": 48,
      "outputs": [
        {
          "output_type": "execute_result",
          "data": {
            "text/plain": [
              "0    96.35\n",
              "1     3.65\n",
              "Name: Owner, dtype: float64"
            ]
          },
          "metadata": {
            "tags": []
          },
          "execution_count": 48
        }
      ]
    },
    {
      "cell_type": "code",
      "metadata": {
        "id": "WQHLBToNY7XN",
        "colab_type": "code",
        "colab": {
          "base_uri": "https://localhost:8080/",
          "height": 204
        },
        "outputId": "9db3a625-685e-430d-fab5-b4560d54fe92"
      },
      "source": [
        "banco.head()"
      ],
      "execution_count": 49,
      "outputs": [
        {
          "output_type": "execute_result",
          "data": {
            "text/html": [
              "<div>\n",
              "<style scoped>\n",
              "    .dataframe tbody tr th:only-of-type {\n",
              "        vertical-align: middle;\n",
              "    }\n",
              "\n",
              "    .dataframe tbody tr th {\n",
              "        vertical-align: top;\n",
              "    }\n",
              "\n",
              "    .dataframe thead th {\n",
              "        text-align: right;\n",
              "    }\n",
              "</style>\n",
              "<table border=\"1\" class=\"dataframe\">\n",
              "  <thead>\n",
              "    <tr style=\"text-align: right;\">\n",
              "      <th></th>\n",
              "      <th>Year</th>\n",
              "      <th>Selling_Price</th>\n",
              "      <th>Kms_Driven</th>\n",
              "      <th>Fuel_Type</th>\n",
              "      <th>Seller_Type</th>\n",
              "      <th>Transmission</th>\n",
              "      <th>Owner</th>\n",
              "    </tr>\n",
              "  </thead>\n",
              "  <tbody>\n",
              "    <tr>\n",
              "      <th>0</th>\n",
              "      <td>2014</td>\n",
              "      <td>3.35</td>\n",
              "      <td>27000</td>\n",
              "      <td>1</td>\n",
              "      <td>Dealer</td>\n",
              "      <td>Manual</td>\n",
              "      <td>0</td>\n",
              "    </tr>\n",
              "    <tr>\n",
              "      <th>1</th>\n",
              "      <td>2013</td>\n",
              "      <td>4.75</td>\n",
              "      <td>43000</td>\n",
              "      <td>0</td>\n",
              "      <td>Dealer</td>\n",
              "      <td>Manual</td>\n",
              "      <td>0</td>\n",
              "    </tr>\n",
              "    <tr>\n",
              "      <th>2</th>\n",
              "      <td>2017</td>\n",
              "      <td>7.25</td>\n",
              "      <td>6900</td>\n",
              "      <td>1</td>\n",
              "      <td>Dealer</td>\n",
              "      <td>Manual</td>\n",
              "      <td>0</td>\n",
              "    </tr>\n",
              "    <tr>\n",
              "      <th>3</th>\n",
              "      <td>2011</td>\n",
              "      <td>2.85</td>\n",
              "      <td>5200</td>\n",
              "      <td>1</td>\n",
              "      <td>Dealer</td>\n",
              "      <td>Manual</td>\n",
              "      <td>0</td>\n",
              "    </tr>\n",
              "    <tr>\n",
              "      <th>4</th>\n",
              "      <td>2014</td>\n",
              "      <td>4.60</td>\n",
              "      <td>42450</td>\n",
              "      <td>0</td>\n",
              "      <td>Dealer</td>\n",
              "      <td>Manual</td>\n",
              "      <td>0</td>\n",
              "    </tr>\n",
              "  </tbody>\n",
              "</table>\n",
              "</div>"
            ],
            "text/plain": [
              "   Year  Selling_Price  Kms_Driven  Fuel_Type Seller_Type Transmission  Owner\n",
              "0  2014           3.35       27000          1      Dealer       Manual      0\n",
              "1  2013           4.75       43000          0      Dealer       Manual      0\n",
              "2  2017           7.25        6900          1      Dealer       Manual      0\n",
              "3  2011           2.85        5200          1      Dealer       Manual      0\n",
              "4  2014           4.60       42450          0      Dealer       Manual      0"
            ]
          },
          "metadata": {
            "tags": []
          },
          "execution_count": 49
        }
      ]
    },
    {
      "cell_type": "markdown",
      "metadata": {
        "id": "xJeJLOdYZJNY",
        "colab_type": "text"
      },
      "source": [
        "### 6.2.3. Categorias de variáveis sendo números\n",
        "\n",
        "- Os modelos do `sklearn` não aceitam variáveis que possuem strings como categorias;\n",
        "\n",
        "- Ok, alguns com certeza aceitam mas provavelmente são os que envolvem texto como NLP, etc;\n",
        "\n",
        "- Nesse caso, temos que transformar as categorias das variáveis para numéricas."
      ]
    },
    {
      "cell_type": "code",
      "metadata": {
        "id": "HGzNPp6pZ0F-",
        "colab_type": "code",
        "colab": {
          "base_uri": "https://localhost:8080/",
          "height": 204
        },
        "outputId": "0c3a6a38-4bc8-455f-cb69-d477f748b997"
      },
      "source": [
        "varcat_to_num = [\"Seller_Type\", \"Transmission\"]\n",
        "\n",
        "banco[varcat_to_num] = banco[varcat_to_num].apply(lambda x: pd.factorize(x)[0])\n",
        "\n",
        "banco.head()"
      ],
      "execution_count": 50,
      "outputs": [
        {
          "output_type": "execute_result",
          "data": {
            "text/html": [
              "<div>\n",
              "<style scoped>\n",
              "    .dataframe tbody tr th:only-of-type {\n",
              "        vertical-align: middle;\n",
              "    }\n",
              "\n",
              "    .dataframe tbody tr th {\n",
              "        vertical-align: top;\n",
              "    }\n",
              "\n",
              "    .dataframe thead th {\n",
              "        text-align: right;\n",
              "    }\n",
              "</style>\n",
              "<table border=\"1\" class=\"dataframe\">\n",
              "  <thead>\n",
              "    <tr style=\"text-align: right;\">\n",
              "      <th></th>\n",
              "      <th>Year</th>\n",
              "      <th>Selling_Price</th>\n",
              "      <th>Kms_Driven</th>\n",
              "      <th>Fuel_Type</th>\n",
              "      <th>Seller_Type</th>\n",
              "      <th>Transmission</th>\n",
              "      <th>Owner</th>\n",
              "    </tr>\n",
              "  </thead>\n",
              "  <tbody>\n",
              "    <tr>\n",
              "      <th>0</th>\n",
              "      <td>2014</td>\n",
              "      <td>3.35</td>\n",
              "      <td>27000</td>\n",
              "      <td>1</td>\n",
              "      <td>0</td>\n",
              "      <td>0</td>\n",
              "      <td>0</td>\n",
              "    </tr>\n",
              "    <tr>\n",
              "      <th>1</th>\n",
              "      <td>2013</td>\n",
              "      <td>4.75</td>\n",
              "      <td>43000</td>\n",
              "      <td>0</td>\n",
              "      <td>0</td>\n",
              "      <td>0</td>\n",
              "      <td>0</td>\n",
              "    </tr>\n",
              "    <tr>\n",
              "      <th>2</th>\n",
              "      <td>2017</td>\n",
              "      <td>7.25</td>\n",
              "      <td>6900</td>\n",
              "      <td>1</td>\n",
              "      <td>0</td>\n",
              "      <td>0</td>\n",
              "      <td>0</td>\n",
              "    </tr>\n",
              "    <tr>\n",
              "      <th>3</th>\n",
              "      <td>2011</td>\n",
              "      <td>2.85</td>\n",
              "      <td>5200</td>\n",
              "      <td>1</td>\n",
              "      <td>0</td>\n",
              "      <td>0</td>\n",
              "      <td>0</td>\n",
              "    </tr>\n",
              "    <tr>\n",
              "      <th>4</th>\n",
              "      <td>2014</td>\n",
              "      <td>4.60</td>\n",
              "      <td>42450</td>\n",
              "      <td>0</td>\n",
              "      <td>0</td>\n",
              "      <td>0</td>\n",
              "      <td>0</td>\n",
              "    </tr>\n",
              "  </tbody>\n",
              "</table>\n",
              "</div>"
            ],
            "text/plain": [
              "   Year  Selling_Price  Kms_Driven  Fuel_Type  Seller_Type  Transmission  \\\n",
              "0  2014           3.35       27000          1            0             0   \n",
              "1  2013           4.75       43000          0            0             0   \n",
              "2  2017           7.25        6900          1            0             0   \n",
              "3  2011           2.85        5200          1            0             0   \n",
              "4  2014           4.60       42450          0            0             0   \n",
              "\n",
              "   Owner  \n",
              "0      0  \n",
              "1      0  \n",
              "2      0  \n",
              "3      0  \n",
              "4      0  "
            ]
          },
          "metadata": {
            "tags": []
          },
          "execution_count": 50
        }
      ]
    },
    {
      "cell_type": "markdown",
      "metadata": {
        "id": "ETGWVt4Nd1A6",
        "colab_type": "text"
      },
      "source": [
        "## 6.3. Divisão em treino e teste\n",
        "\n",
        "- Neste caso iremos separar em 50/50 os dados;"
      ]
    },
    {
      "cell_type": "code",
      "metadata": {
        "id": "qNvPNIrITahJ",
        "colab_type": "code",
        "colab": {
          "base_uri": "https://localhost:8080/",
          "height": 34
        },
        "outputId": "27449e58-80b5-4305-8f78-01cefe958843"
      },
      "source": [
        "from sklearn.model_selection import train_test_split\n",
        "\n",
        "x = banco.drop(\"Selling_Price\", axis = 1)\n",
        "y = banco[\"Selling_Price\"]\n",
        "\n",
        "\n",
        "x_treino, x_teste, y_treino, y_teste = train_test_split(x, y, train_size = 0.5, random_state = 1234)\n",
        "\n",
        "print(x_treino.shape, y_treino.shape, x_teste.shape, y_teste.shape)"
      ],
      "execution_count": 51,
      "outputs": [
        {
          "output_type": "stream",
          "text": [
            "(150, 6) (150,) (151, 6) (151,)\n"
          ],
          "name": "stdout"
        }
      ]
    },
    {
      "cell_type": "markdown",
      "metadata": {
        "id": "BlgdB7vicOXW",
        "colab_type": "text"
      },
      "source": [
        "## 6.4. Aplicação do modelo\n",
        "\n",
        "- Vamos setar alguns parâmetros básicos:\n",
        "\n",
        "  - Max_depth = 3;\n",
        "  - Min_samples_split = Default;\n",
        "  - Min_samples_leaf = Default;\n",
        "  - max_features = Default."
      ]
    },
    {
      "cell_type": "code",
      "metadata": {
        "id": "zMOOzhoXc1yZ",
        "colab_type": "code",
        "colab": {
          "base_uri": "https://localhost:8080/",
          "height": 119
        },
        "outputId": "42256451-f8d1-4c81-e245-824fff9feb57"
      },
      "source": [
        "from sklearn.tree import DecisionTreeRegressor\n",
        "\n",
        "dtr = DecisionTreeRegressor(random_state = 1234, max_depth = 3)\n",
        "\n",
        "dtr.fit(x_treino, y_treino)"
      ],
      "execution_count": 70,
      "outputs": [
        {
          "output_type": "execute_result",
          "data": {
            "text/plain": [
              "DecisionTreeRegressor(ccp_alpha=0.0, criterion='mse', max_depth=3,\n",
              "                      max_features=None, max_leaf_nodes=None,\n",
              "                      min_impurity_decrease=0.0, min_impurity_split=None,\n",
              "                      min_samples_leaf=1, min_samples_split=2,\n",
              "                      min_weight_fraction_leaf=0.0, presort='deprecated',\n",
              "                      random_state=1234, splitter='best')"
            ]
          },
          "metadata": {
            "tags": []
          },
          "execution_count": 70
        }
      ]
    },
    {
      "cell_type": "markdown",
      "metadata": {
        "id": "6uYuN07bl70c",
        "colab_type": "text"
      },
      "source": [
        "- Agora com modelo pronto, podemos predizer para nossos dados de teste e verificar os erros;"
      ]
    },
    {
      "cell_type": "code",
      "metadata": {
        "id": "RMbP_5ffjiPN",
        "colab_type": "code",
        "colab": {
          "base_uri": "https://localhost:8080/",
          "height": 34
        },
        "outputId": "8e9a6a5a-0a18-41d6-809c-fe85307f52a4"
      },
      "source": [
        "y_pred = dtr.predict(x_teste)\n",
        "\n",
        "y_pred[:6].round(2)"
      ],
      "execution_count": 71,
      "outputs": [
        {
          "output_type": "execute_result",
          "data": {
            "text/plain": [
              "array([3.07, 0.63, 3.07, 0.63, 0.63, 0.63])"
            ]
          },
          "metadata": {
            "tags": []
          },
          "execution_count": 71
        }
      ]
    },
    {
      "cell_type": "code",
      "metadata": {
        "id": "G8H0u6i6l32G",
        "colab_type": "code",
        "colab": {
          "base_uri": "https://localhost:8080/",
          "height": 68
        },
        "outputId": "4b04625d-d9be-4255-b88c-8c15a9db7dce"
      },
      "source": [
        "from sklearn.metrics import mean_squared_error\n",
        "from sklearn.metrics import mean_absolute_error\n",
        "\n",
        "print(mean_squared_error(y_teste, y_pred))\n",
        "print(np.sqrt(mean_squared_error(y_teste, y_pred)))\n",
        "print(mean_absolute_error(y_teste, y_pred))"
      ],
      "execution_count": 72,
      "outputs": [
        {
          "output_type": "stream",
          "text": [
            "9.911042627229685\n",
            "3.1481808441113555\n",
            "1.7509421493395003\n"
          ],
          "name": "stdout"
        }
      ]
    },
    {
      "cell_type": "code",
      "metadata": {
        "id": "Fsz1KkgxvG2o",
        "colab_type": "code",
        "colab": {
          "base_uri": "https://localhost:8080/",
          "height": 466
        },
        "outputId": "df0da9ac-b5a6-480f-8071-ee69b6e27870"
      },
      "source": [
        "from sklearn.tree import plot_tree\n",
        "\n",
        "var_names = list(x_treino.columns)\n",
        "\n",
        "plt.figure(figsize = [16, 8])\n",
        "plot_tree(dtr, filled = True, feature_names = var_names)\n",
        "plt.show()"
      ],
      "execution_count": 73,
      "outputs": [
        {
          "output_type": "display_data",
          "data": {
            "image/png": "[encoded data removed]",
            "text/plain": [
              "<Figure size 1152x576 with 1 Axes>"
            ]
          },
          "metadata": {
            "tags": [],
            "needs_background": "light"
          }
        }
      ]
    },
    {
      "cell_type": "markdown",
      "metadata": {
        "id": "du6ZLsomhzeG",
        "colab_type": "text"
      },
      "source": [
        "# Referências\n",
        "\n",
        "---\n",
        "\n",
        "1. Elements of Statistical Learning\n",
        "2. Introdução à Ciência de Dados Fundamentos e Aplicações\n",
        "3. https://medium.com/machine-learning-beyond-deep-learning/%C3%A1rvores-de-decis%C3%A3o-3f52f6420b69\n",
        "4. https://www.wrprates.com/o-que-e-arvore-de-decisao-decision-tree-linguagem-r/\n",
        "5. https://www.maxwell.vrac.puc-rio.br/7587/7587_4.PDF\n",
        "6. https://edisciplinas.usp.br/pluginfile.php/4469825/mod_resource/content/1/ArvoresDecisao_normalsize.pdf\n",
        "7. https://www.cin.ufpe.br/~pacm/SI/ArvoreDecisaoIndutiva.pdf\n",
        "8. https://www.vooo.pro/insights/um-tutorial-completo-sobre-a-modelagem-baseada-em-tree-arvore-do-zero-em-r-python/\n",
        "9. https://minerandodados.com.br/arvores-de-decisao-conceitos-e-aplicacoes/\n",
        "10. https://scikit-learn.org/stable/modules/classes.html#module-sklearn.tree\n",
        "11. Scikit-learn: Machine Learning in Python, Pedregosa et al., JMLR 12, pp. 2825-2830, 2011.\n",
        "12. https://www.alura.com.br/conteudo/machine-learning-otimizacao-de-modelos-atraves-de-hiperparametros\n",
        "13. https://gdcoder.com/decision-tree-regressor-explained-in-depth/"
      ]
    }
  ]
}