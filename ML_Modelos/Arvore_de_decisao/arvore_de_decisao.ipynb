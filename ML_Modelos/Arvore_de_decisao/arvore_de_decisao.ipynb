{
  "nbformat": 4,
  "nbformat_minor": 0,
  "metadata": {
    "colab": {
      "name": "arvore_de_decisao",
      "provenance": [],
      "collapsed_sections": []
    },
    "kernelspec": {
      "name": "python3",
      "display_name": "Python 3"
    }
  },
  "cells": [
    {
      "cell_type": "markdown",
      "metadata": {
        "id": "iSMkQ2SOcLAo",
        "colab_type": "text"
      },
      "source": [
        "# Anotações e um projeto com árvore de decisão para regressão\n",
        "\n",
        "- Tentarei focar na prática e dispensar um pouco a teoria com fórmulas;\n",
        "\n",
        "- Entretanto, se for algo que vejo que é útil para o entendimento, com certeza entretará;\n",
        "\n"
      ]
    },
    {
      "cell_type": "markdown",
      "metadata": {
        "id": "pIwDfVud4GfO",
        "colab_type": "text"
      },
      "source": [
        "# Fazer o resumo a partir dos posts e dos livros abaixo"
      ]
    },
    {
      "cell_type": "markdown",
      "metadata": {
        "id": "du6ZLsomhzeG",
        "colab_type": "text"
      },
      "source": [
        "# Referências\n",
        "\n",
        "---\n",
        "\n",
        "1. Elements of Statistical Learning\n",
        "2. Introdução à Ciência de Dados Fundamentos e Aplicações\n",
        "3. https://medium.com/machine-learning-beyond-deep-learning/%C3%A1rvores-de-decis%C3%A3o-3f52f6420b69\n",
        "4. https://www.wrprates.com/o-que-e-arvore-de-decisao-decision-tree-linguagem-r/\n",
        "5. https://www.maxwell.vrac.puc-rio.br/7587/7587_4.PDF\n",
        "6. https://edisciplinas.usp.br/pluginfile.php/4469825/mod_resource/content/1/ArvoresDecisao_normalsize.pdf\n",
        "7. https://www.cin.ufpe.br/~pacm/SI/ArvoreDecisaoIndutiva.pdf\n",
        "8. https://www.vooo.pro/insights/um-tutorial-completo-sobre-a-modelagem-baseada-em-tree-arvore-do-zero-em-r-python/\n",
        "9. https://minerandodados.com.br/arvores-de-decisao-conceitos-e-aplicacoes/"
      ]
    }
  ]
}