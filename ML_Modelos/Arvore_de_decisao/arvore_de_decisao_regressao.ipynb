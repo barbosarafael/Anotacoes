{
  "nbformat": 4,
  "nbformat_minor": 0,
  "metadata": {
    "colab": {
      "name": "arvore_de_decisao_regressao",
      "provenance": [],
      "collapsed_sections": []
    },
    "kernelspec": {
      "name": "python3",
      "display_name": "Python 3"
    }
  },
  "cells": [
    {
      "cell_type": "markdown",
      "metadata": {
        "id": "iSMkQ2SOcLAo",
        "colab_type": "text"
      },
      "source": [
        "# Anotações e um projeto com árvore de decisão para regressão"
      ]
    },
    {
      "cell_type": "markdown",
      "metadata": {
        "id": "ID67XP9wvQ-C",
        "colab_type": "text"
      },
      "source": [
        "# 1. Generalized Additive Models (GAM)\n",
        "\n",
        "- Modelos aditivos generalizados: métodos estatísticos automáticos flexível que identificam e caracterizam as relações não lineares;\n",
        "\n",
        "- Na regressão, caso atual, um modelo aditivo generalizado tem a seguinte forma:\n",
        "\n",
        "$$ E(Y|X_1, X_2, \\dots, X_p) = \\alpha + f_1 (X_1) + f_2 (X_2) + \\dots + f_p (X_p) $$\n",
        "\n",
        "> **X**: Variáveis explicativas \\\\\n",
        "> **Y**: Variável target \\\\\n",
        "> **f**: funções não específicas e não paramétricas \\\\\n",
        "\n",
        "- Diferente da regressão que estamos acostumados onde os parâmetros são os $ \\beta $s, nesse caso são as funções que descrevemos acima;\n",
        "\n",
        "- Esta função $ f $ faz o modelo ficar mais flexível e aditividade é mantida;"
      ]
    },
    {
      "cell_type": "markdown",
      "metadata": {
        "id": "KpnLR9tpxUll",
        "colab_type": "text"
      },
      "source": [
        "## Continuar a partir do 9.1.1 Fitting Additive Models, talvez nem seja útil descorrer algo desse capítulo"
      ]
    },
    {
      "cell_type": "markdown",
      "metadata": {
        "id": "7m5bCDg4hEPz",
        "colab_type": "text"
      },
      "source": [
        "# Árvore de decisão\n",
        "\n",
        "---\n",
        "\n",
        "\n",
        "- Desenvolvidos no década de 80 por Breiman e outros autores;\n",
        "\n",
        "\n",
        "\n"
      ]
    },
    {
      "cell_type": "markdown",
      "metadata": {
        "id": "du6ZLsomhzeG",
        "colab_type": "text"
      },
      "source": [
        "# Referências\n",
        "\n",
        "---\n",
        "\n",
        "1. Elements of Statistical Learning\n",
        "2. Introdução à Ciência de Dados Fundamentos e Aplicações"
      ]
    }
  ]
}