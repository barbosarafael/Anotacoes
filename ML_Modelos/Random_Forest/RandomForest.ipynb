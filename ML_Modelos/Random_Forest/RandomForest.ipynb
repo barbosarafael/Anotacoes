{
  "nbformat": 4,
  "nbformat_minor": 0,
  "metadata": {
    "colab": {
      "name": "RandomForest.ipynb",
      "provenance": [],
      "collapsed_sections": []
    },
    "kernelspec": {
      "name": "python3",
      "display_name": "Python 3"
    }
  },
  "cells": [
    {
      "cell_type": "markdown",
      "metadata": {
        "id": "4KOc45bjAC7y",
        "colab_type": "text"
      },
      "source": [
        "# Anotações e um projeto com Random Forest em Python\n",
        "\n",
        "<p align=\"center\">\n",
        "  <img alt=\"decision_tree\" src=\"https://miro.medium.com/max/1400/0*YEwFetXQGPB8aDFV\" alt=\"drawing\" width=\"800\" height=\"400\"/>\n",
        "  <br>\n",
        "    <em> <b>Retirado de:</b> https://towardsdatascience.com/from-a-single-decision-tree-to-a-random-forest-b9523be65147 </em>\n",
        "</p>\n",
        "\n",
        "- Se você não viu o post de Árvore de Decisão, recomendo ler aqui ó:\n",
        "\n",
        "- Em português se chama Floresta Aleatória, mas prefiro chamar de Random Forest ou RF como abreviação, é mais fácil e bonito;\n",
        "\n"
      ]
    },
    {
      "cell_type": "markdown",
      "metadata": {
        "id": "8GNej9ByBnAB",
        "colab_type": "text"
      },
      "source": [
        "# Referências\n",
        "\n",
        "---\n",
        "\n",
        "## Random Forest\n",
        "\n",
        "\n",
        "https://medium.com/machina-sapiens/o-algoritmo-da-floresta-aleat%C3%B3ria-3545f6babdf8\n",
        "\n",
        "https://didatica.tech/o-que-e-e-como-funciona-o-algoritmo-randomforest/\n",
        "\n",
        "https://www.vooo.pro/insights/um-tutorial-completo-sobre-a-modelagem-baseada-em-tree-arvore-do-zero-em-r-python/\n",
        "\n",
        "https://estatcomp.github.io/aulas/slides/parte0X.html#11\n",
        "\n",
        "https://towardsdatascience.com/understanding-random-forest-58381e0602d2\n",
        "\n",
        "https://www.stat.berkeley.edu/~breiman/RandomForests/cc_home.htm\n",
        "\n",
        "https://www.shirin-glander.de/2018/10/ml_basics_rf/\n",
        "\n",
        "https://builtin.com/data-science/random-forest-algorithm"
      ]
    }
  ]
}